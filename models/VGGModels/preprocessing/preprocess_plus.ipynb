{
 "cells": [
  {
   "cell_type": "code",
   "execution_count": 1,
   "metadata": {},
   "outputs": [],
   "source": [
    "import pandas as pd\n",
    "import numpy as np\n",
    "import os"
   ]
  },
  {
   "cell_type": "code",
   "execution_count": null,
   "metadata": {},
   "outputs": [],
   "source": []
  },
  {
   "cell_type": "code",
   "execution_count": 2,
   "metadata": {},
   "outputs": [],
   "source": [
    "lyrics = pd.read_csv(os.pardir+'/metadata_plus/Song_Lyrics.csv')\n",
    "songs = pd.read_csv(os.pardir+'/metadata_plus/Song.csv')\n",
    "stations = pd.read_csv(os.pardir+'/metadata_plus/Station_Song.csv')\n",
    "station_tags = pd.read_csv(os.pardir+'/metadata_plus/Station_Tag.csv')\n",
    "tag_info = pd.read_csv(os.pardir+'/metadata_plus/Station_Tag_Info.csv')"
   ]
  },
  {
   "cell_type": "code",
   "execution_count": 3,
   "metadata": {},
   "outputs": [],
   "source": [
    "lyrics = lyrics.fillna('')"
   ]
  },
  {
   "cell_type": "code",
   "execution_count": 4,
   "metadata": {},
   "outputs": [
    {
     "data": {
      "text/html": [
       "<div>\n",
       "<style scoped>\n",
       "    .dataframe tbody tr th:only-of-type {\n",
       "        vertical-align: middle;\n",
       "    }\n",
       "\n",
       "    .dataframe tbody tr th {\n",
       "        vertical-align: top;\n",
       "    }\n",
       "\n",
       "    .dataframe thead th {\n",
       "        text-align: right;\n",
       "    }\n",
       "</style>\n",
       "<table border=\"1\" class=\"dataframe\">\n",
       "  <thead>\n",
       "    <tr style=\"text-align: right;\">\n",
       "      <th></th>\n",
       "      <th>IDX</th>\n",
       "      <th>TYPE_ID</th>\n",
       "      <th>TAG_NAME</th>\n",
       "      <th>CDATE</th>\n",
       "    </tr>\n",
       "  </thead>\n",
       "  <tbody>\n",
       "    <tr>\n",
       "      <th>0</th>\n",
       "      <td>5322</td>\n",
       "      <td>2</td>\n",
       "      <td>화나요</td>\n",
       "      <td>2021-06-08 12:07:54</td>\n",
       "    </tr>\n",
       "    <tr>\n",
       "      <th>1</th>\n",
       "      <td>5330</td>\n",
       "      <td>2</td>\n",
       "      <td>행복해요</td>\n",
       "      <td>2021-06-08 12:07:54</td>\n",
       "    </tr>\n",
       "    <tr>\n",
       "      <th>2</th>\n",
       "      <td>5711</td>\n",
       "      <td>2</td>\n",
       "      <td>편안해요</td>\n",
       "      <td>2022-03-17 14:48:33</td>\n",
       "    </tr>\n",
       "    <tr>\n",
       "      <th>3</th>\n",
       "      <td>5759</td>\n",
       "      <td>12</td>\n",
       "      <td>슬픔</td>\n",
       "      <td>2022-03-31 14:31:33</td>\n",
       "    </tr>\n",
       "    <tr>\n",
       "      <th>4</th>\n",
       "      <td>5762</td>\n",
       "      <td>12</td>\n",
       "      <td>불안</td>\n",
       "      <td>2022-03-31 14:31:33</td>\n",
       "    </tr>\n",
       "    <tr>\n",
       "      <th>5</th>\n",
       "      <td>5766</td>\n",
       "      <td>12</td>\n",
       "      <td>신남</td>\n",
       "      <td>2022-03-31 14:31:33</td>\n",
       "    </tr>\n",
       "  </tbody>\n",
       "</table>\n",
       "</div>"
      ],
      "text/plain": [
       "    IDX  TYPE_ID TAG_NAME                CDATE\n",
       "0  5322        2      화나요  2021-06-08 12:07:54\n",
       "1  5330        2     행복해요  2021-06-08 12:07:54\n",
       "2  5711        2     편안해요  2022-03-17 14:48:33\n",
       "3  5759       12       슬픔  2022-03-31 14:31:33\n",
       "4  5762       12       불안  2022-03-31 14:31:33\n",
       "5  5766       12       신남  2022-03-31 14:31:33"
      ]
     },
     "execution_count": 4,
     "metadata": {},
     "output_type": "execute_result"
    }
   ],
   "source": [
    "tag_info"
   ]
  },
  {
   "cell_type": "markdown",
   "metadata": {},
   "source": [
    "#### 가사 정보에 대한 결측치 확인"
   ]
  },
  {
   "cell_type": "code",
   "execution_count": 5,
   "metadata": {},
   "outputs": [
    {
     "data": {
      "text/plain": [
       "2.080000000000041"
      ]
     },
     "execution_count": 5,
     "metadata": {},
     "output_type": "execute_result"
    }
   ],
   "source": [
    "length = lyrics['LYRICS'].fillna('').apply(lambda x:len(x))\n",
    "length.quantile(0.07)"
   ]
  },
  {
   "cell_type": "code",
   "execution_count": 6,
   "metadata": {},
   "outputs": [
    {
     "name": "stdout",
     "output_type": "stream",
     "text": [
      "<class 'pandas.core.frame.DataFrame'>\n",
      "Int64Index: 279 entries, 4 to 3744\n",
      "Data columns (total 3 columns):\n",
      " #   Column   Non-Null Count  Dtype \n",
      "---  ------   --------------  ----- \n",
      " 0   IDX      279 non-null    int64 \n",
      " 1   SONG_ID  279 non-null    int64 \n",
      " 2   LYRICS   279 non-null    object\n",
      "dtypes: int64(2), object(1)\n",
      "memory usage: 8.7+ KB\n"
     ]
    }
   ],
   "source": [
    "# 가사의 길이가 100자 이하라면 가사정보가 누락된 것으로 추정한다.\n",
    "lyrics[length < 100].info()"
   ]
  },
  {
   "cell_type": "markdown",
   "metadata": {},
   "source": [
    "#### 각 스테이션의 구성 확인\n",
    "\n",
    "- 57개의 스테이션, 내부에 수록된 곡의 수는 변동\n",
    "- 각 스테이션마다 6개의 세부 감성으로 분류된 태깅 존재"
   ]
  },
  {
   "cell_type": "code",
   "execution_count": 7,
   "metadata": {},
   "outputs": [
    {
     "data": {
      "text/plain": [
       "(221,)"
      ]
     },
     "execution_count": 7,
     "metadata": {},
     "output_type": "execute_result"
    }
   ],
   "source": [
    "stations['ST_ID'].unique().shape"
   ]
  },
  {
   "cell_type": "code",
   "execution_count": 10,
   "metadata": {},
   "outputs": [],
   "source": [
    "tag_dict = {}\n",
    "for i in range(len(tag_info)):\n",
    "    tag_dict[tag_info['IDX'].iloc[i]] = tag_info['TAG_NAME'].iloc[i]"
   ]
  },
  {
   "cell_type": "code",
   "execution_count": 11,
   "metadata": {},
   "outputs": [],
   "source": [
    "station_tag_dict = {}\n",
    "for i in range(len(station_tags)):\n",
    "    station_tag_dict[station_tags['ST_ID'].iloc[i]] = station_tags['ST_TAG_ID'].iloc[i]"
   ]
  },
  {
   "cell_type": "code",
   "execution_count": 12,
   "metadata": {},
   "outputs": [],
   "source": [
    "song_tag_dict = {}\n",
    "for i in range(len(songs)):\n",
    "    song_tag_dict[songs['SONG_ID'].iloc[i]] = songs['SONG_TITLE'].iloc[i]"
   ]
  },
  {
   "cell_type": "code",
   "execution_count": 13,
   "metadata": {},
   "outputs": [],
   "source": [
    "lyrics_dict = {}\n",
    "for i in range(len(lyrics)):\n",
    "    songid = lyrics['SONG_ID'].iloc[i]\n",
    "    lyric = lyrics['LYRICS'].iloc[i]\n",
    "    if len(lyric) < 100:\n",
    "        lyrics_dict[songid] = 'NOLYRICS'\n",
    "    else:\n",
    "        lyrics_dict[songid] = lyric"
   ]
  },
  {
   "cell_type": "markdown",
   "metadata": {},
   "source": [
    "- 스테이션에 포함된 곡들을 해당 스테이션의 감성으로 태깅\n",
    "- song_id, song_name, song_lyrics, senti_tag 로 구성"
   ]
  },
  {
   "cell_type": "code",
   "execution_count": 23,
   "metadata": {},
   "outputs": [],
   "source": [
    "station_ids = stations['ST_ID'].unique()\n",
    "\n",
    "song_id = []\n",
    "song_name = []\n",
    "song_lyric = []\n",
    "senti_tag = []\n",
    "\n",
    "for case in station_ids:\n",
    "    temp = stations[stations['ST_ID'] == case]\n",
    "    for i in range(len(temp)):\n",
    "        try:\n",
    "            senti = tag_dict[station_tag_dict[temp['ST_ID'].iloc[i]]]\n",
    "            s_id = temp['SONG_ID'].iloc[i]\n",
    "            s_name = song_tag_dict[temp['SONG_ID'].iloc[i]]\n",
    "            s_lyric = lyrics_dict[temp['SONG_ID'].iloc[i]]\n",
    "            \n",
    "            senti_tag.append(senti)\n",
    "            song_id.append(s_id)\n",
    "            song_name.append(s_name)\n",
    "            song_lyric.append(s_lyric)\n",
    "        except:\n",
    "            pass\n",
    "        \n",
    "        \n",
    "    "
   ]
  },
  {
   "cell_type": "code",
   "execution_count": 24,
   "metadata": {},
   "outputs": [
    {
     "name": "stdout",
     "output_type": "stream",
     "text": [
      "4916 4916 4916 4916\n"
     ]
    }
   ],
   "source": [
    "print(len(song_id), len(song_name), len(song_lyric), len(senti_tag))"
   ]
  },
  {
   "cell_type": "code",
   "execution_count": 25,
   "metadata": {},
   "outputs": [],
   "source": [
    "result = pd.DataFrame(\n",
    "    data=[song_id, song_name, song_lyric, senti_tag]\n",
    ").T\n",
    "result.columns= ['song_id', 'song_name', 'song_lyric', 'senti_tag']"
   ]
  },
  {
   "cell_type": "code",
   "execution_count": 26,
   "metadata": {},
   "outputs": [
    {
     "data": {
      "text/html": [
       "<div>\n",
       "<style scoped>\n",
       "    .dataframe tbody tr th:only-of-type {\n",
       "        vertical-align: middle;\n",
       "    }\n",
       "\n",
       "    .dataframe tbody tr th {\n",
       "        vertical-align: top;\n",
       "    }\n",
       "\n",
       "    .dataframe thead th {\n",
       "        text-align: right;\n",
       "    }\n",
       "</style>\n",
       "<table border=\"1\" class=\"dataframe\">\n",
       "  <thead>\n",
       "    <tr style=\"text-align: right;\">\n",
       "      <th></th>\n",
       "      <th>song_id</th>\n",
       "      <th>song_name</th>\n",
       "      <th>song_lyric</th>\n",
       "      <th>senti_tag</th>\n",
       "    </tr>\n",
       "  </thead>\n",
       "  <tbody>\n",
       "    <tr>\n",
       "      <th>0</th>\n",
       "      <td>2466</td>\n",
       "      <td>오늘도 난</td>\n",
       "      <td>나도 알지 못한날 굳이 알려고 들지마 \\n보여줄 수 없는 내 마음만 안타까울 뿐 \\...</td>\n",
       "      <td>편안해요</td>\n",
       "    </tr>\n",
       "    <tr>\n",
       "      <th>1</th>\n",
       "      <td>33732</td>\n",
       "      <td>동반자</td>\n",
       "      <td>사랑이기엔 우매했던\\n긴 시간의 끝이\\n어느덧 처음 만난 그때처럼\\n내겐 아득하오\\...</td>\n",
       "      <td>편안해요</td>\n",
       "    </tr>\n",
       "    <tr>\n",
       "      <th>2</th>\n",
       "      <td>111208</td>\n",
       "      <td>사랑한다는 말</td>\n",
       "      <td>처음으로 사랑한다 말하던 날\\n살며시 농담처럼 흘리던 말\\n못 알아들은 걸까\\n딴청...</td>\n",
       "      <td>편안해요</td>\n",
       "    </tr>\n",
       "    <tr>\n",
       "      <th>3</th>\n",
       "      <td>111216</td>\n",
       "      <td>망각</td>\n",
       "      <td>지금의 그와 혹\\n내 얘기가 나올 때\\n사랑했다고\\n솔직히 말을 하는지\\n아니면 그...</td>\n",
       "      <td>편안해요</td>\n",
       "    </tr>\n",
       "    <tr>\n",
       "      <th>4</th>\n",
       "      <td>421755</td>\n",
       "      <td>너에게</td>\n",
       "      <td>나의 하늘을 본 적이 있을까\\n조각 구름과 빛나는 별들이\\n끝없이 펼쳐있는\\n구석진...</td>\n",
       "      <td>편안해요</td>\n",
       "    </tr>\n",
       "    <tr>\n",
       "      <th>...</th>\n",
       "      <td>...</td>\n",
       "      <td>...</td>\n",
       "      <td>...</td>\n",
       "      <td>...</td>\n",
       "    </tr>\n",
       "    <tr>\n",
       "      <th>4911</th>\n",
       "      <td>34794445</td>\n",
       "      <td>Songcry</td>\n",
       "      <td>NOLYRICS</td>\n",
       "      <td>불안</td>\n",
       "    </tr>\n",
       "    <tr>\n",
       "      <th>4912</th>\n",
       "      <td>34797285</td>\n",
       "      <td>자가격리</td>\n",
       "      <td>우린 스스로 될 필요가 있지 자가격리\\n며칠 간의 호텔 예약했어 no covid\\n...</td>\n",
       "      <td>불안</td>\n",
       "    </tr>\n",
       "    <tr>\n",
       "      <th>4913</th>\n",
       "      <td>34800760</td>\n",
       "      <td>Gucci Bandanna (feat. lobonabeat!)</td>\n",
       "      <td>Gucci Bandanna\\nGucci Gucci Bandanna\\nGucci Ba...</td>\n",
       "      <td>불안</td>\n",
       "    </tr>\n",
       "    <tr>\n",
       "      <th>4914</th>\n",
       "      <td>34800774</td>\n",
       "      <td>Refresh (Feat. OLNL, B JYUN.)</td>\n",
       "      <td>돌아가 보자고 Refresh\\n좋았던 때로\\n돌아가 보자고 Refresh\\n혼자일 ...</td>\n",
       "      <td>불안</td>\n",
       "    </tr>\n",
       "    <tr>\n",
       "      <th>4915</th>\n",
       "      <td>34800790</td>\n",
       "      <td>안녕, 나의 첫사랑 (Feat. 정해일)</td>\n",
       "      <td>어쩌다 너를 알게 됐고\\n편하게 날 대해준 너\\n태연한 척했었던 내 모습 뒤에\\n두...</td>\n",
       "      <td>불안</td>\n",
       "    </tr>\n",
       "  </tbody>\n",
       "</table>\n",
       "<p>4916 rows × 4 columns</p>\n",
       "</div>"
      ],
      "text/plain": [
       "       song_id                           song_name  \\\n",
       "0         2466                               오늘도 난   \n",
       "1        33732                                 동반자   \n",
       "2       111208                             사랑한다는 말   \n",
       "3       111216                                  망각   \n",
       "4       421755                                 너에게   \n",
       "...        ...                                 ...   \n",
       "4911  34794445                             Songcry   \n",
       "4912  34797285                                자가격리   \n",
       "4913  34800760  Gucci Bandanna (feat. lobonabeat!)   \n",
       "4914  34800774       Refresh (Feat. OLNL, B JYUN.)   \n",
       "4915  34800790              안녕, 나의 첫사랑 (Feat. 정해일)   \n",
       "\n",
       "                                             song_lyric senti_tag  \n",
       "0     나도 알지 못한날 굳이 알려고 들지마 \\n보여줄 수 없는 내 마음만 안타까울 뿐 \\...      편안해요  \n",
       "1     사랑이기엔 우매했던\\n긴 시간의 끝이\\n어느덧 처음 만난 그때처럼\\n내겐 아득하오\\...      편안해요  \n",
       "2     처음으로 사랑한다 말하던 날\\n살며시 농담처럼 흘리던 말\\n못 알아들은 걸까\\n딴청...      편안해요  \n",
       "3     지금의 그와 혹\\n내 얘기가 나올 때\\n사랑했다고\\n솔직히 말을 하는지\\n아니면 그...      편안해요  \n",
       "4     나의 하늘을 본 적이 있을까\\n조각 구름과 빛나는 별들이\\n끝없이 펼쳐있는\\n구석진...      편안해요  \n",
       "...                                                 ...       ...  \n",
       "4911                                           NOLYRICS        불안  \n",
       "4912  우린 스스로 될 필요가 있지 자가격리\\n며칠 간의 호텔 예약했어 no covid\\n...        불안  \n",
       "4913  Gucci Bandanna\\nGucci Gucci Bandanna\\nGucci Ba...        불안  \n",
       "4914  돌아가 보자고 Refresh\\n좋았던 때로\\n돌아가 보자고 Refresh\\n혼자일 ...        불안  \n",
       "4915  어쩌다 너를 알게 됐고\\n편하게 날 대해준 너\\n태연한 척했었던 내 모습 뒤에\\n두...        불안  \n",
       "\n",
       "[4916 rows x 4 columns]"
      ]
     },
     "execution_count": 26,
     "metadata": {},
     "output_type": "execute_result"
    }
   ],
   "source": [
    "result"
   ]
  },
  {
   "cell_type": "code",
   "execution_count": 28,
   "metadata": {},
   "outputs": [],
   "source": [
    "result.to_csv('Raw_data_plus.csv', index=False)"
   ]
  },
  {
   "cell_type": "code",
   "execution_count": 20,
   "metadata": {},
   "outputs": [
    {
     "data": {
      "text/html": [
       "<div>\n",
       "<style scoped>\n",
       "    .dataframe tbody tr th:only-of-type {\n",
       "        vertical-align: middle;\n",
       "    }\n",
       "\n",
       "    .dataframe tbody tr th {\n",
       "        vertical-align: top;\n",
       "    }\n",
       "\n",
       "    .dataframe thead th {\n",
       "        text-align: right;\n",
       "    }\n",
       "</style>\n",
       "<table border=\"1\" class=\"dataframe\">\n",
       "  <thead>\n",
       "    <tr style=\"text-align: right;\">\n",
       "      <th></th>\n",
       "      <th>IDX</th>\n",
       "      <th>ST_ID</th>\n",
       "      <th>SONG_ID</th>\n",
       "      <th>PRIORITY</th>\n",
       "    </tr>\n",
       "  </thead>\n",
       "  <tbody>\n",
       "    <tr>\n",
       "      <th>0</th>\n",
       "      <td>10669994</td>\n",
       "      <td>467710</td>\n",
       "      <td>2466</td>\n",
       "      <td>2</td>\n",
       "    </tr>\n",
       "    <tr>\n",
       "      <th>32</th>\n",
       "      <td>10669997</td>\n",
       "      <td>467710</td>\n",
       "      <td>33732</td>\n",
       "      <td>5</td>\n",
       "    </tr>\n",
       "    <tr>\n",
       "      <th>113</th>\n",
       "      <td>10669998</td>\n",
       "      <td>467710</td>\n",
       "      <td>111208</td>\n",
       "      <td>6</td>\n",
       "    </tr>\n",
       "    <tr>\n",
       "      <th>115</th>\n",
       "      <td>10669999</td>\n",
       "      <td>467710</td>\n",
       "      <td>111216</td>\n",
       "      <td>7</td>\n",
       "    </tr>\n",
       "    <tr>\n",
       "      <th>148</th>\n",
       "      <td>10670003</td>\n",
       "      <td>467710</td>\n",
       "      <td>421755</td>\n",
       "      <td>11</td>\n",
       "    </tr>\n",
       "    <tr>\n",
       "      <th>193</th>\n",
       "      <td>10670005</td>\n",
       "      <td>467710</td>\n",
       "      <td>526820</td>\n",
       "      <td>13</td>\n",
       "    </tr>\n",
       "    <tr>\n",
       "      <th>316</th>\n",
       "      <td>10670000</td>\n",
       "      <td>467710</td>\n",
       "      <td>1590175</td>\n",
       "      <td>8</td>\n",
       "    </tr>\n",
       "    <tr>\n",
       "      <th>423</th>\n",
       "      <td>10669995</td>\n",
       "      <td>467710</td>\n",
       "      <td>2043348</td>\n",
       "      <td>3</td>\n",
       "    </tr>\n",
       "    <tr>\n",
       "      <th>953</th>\n",
       "      <td>10669996</td>\n",
       "      <td>467710</td>\n",
       "      <td>4142913</td>\n",
       "      <td>4</td>\n",
       "    </tr>\n",
       "    <tr>\n",
       "      <th>975</th>\n",
       "      <td>10669993</td>\n",
       "      <td>467710</td>\n",
       "      <td>4191056</td>\n",
       "      <td>1</td>\n",
       "    </tr>\n",
       "    <tr>\n",
       "      <th>1552</th>\n",
       "      <td>10670006</td>\n",
       "      <td>467710</td>\n",
       "      <td>7861392</td>\n",
       "      <td>14</td>\n",
       "    </tr>\n",
       "    <tr>\n",
       "      <th>2104</th>\n",
       "      <td>10670007</td>\n",
       "      <td>467710</td>\n",
       "      <td>30181278</td>\n",
       "      <td>15</td>\n",
       "    </tr>\n",
       "    <tr>\n",
       "      <th>4470</th>\n",
       "      <td>10670001</td>\n",
       "      <td>467710</td>\n",
       "      <td>33161256</td>\n",
       "      <td>9</td>\n",
       "    </tr>\n",
       "    <tr>\n",
       "      <th>4471</th>\n",
       "      <td>10670002</td>\n",
       "      <td>467710</td>\n",
       "      <td>33161261</td>\n",
       "      <td>10</td>\n",
       "    </tr>\n",
       "    <tr>\n",
       "      <th>4573</th>\n",
       "      <td>10670004</td>\n",
       "      <td>467710</td>\n",
       "      <td>33434340</td>\n",
       "      <td>12</td>\n",
       "    </tr>\n",
       "  </tbody>\n",
       "</table>\n",
       "</div>"
      ],
      "text/plain": [
       "           IDX   ST_ID   SONG_ID  PRIORITY\n",
       "0     10669994  467710      2466         2\n",
       "32    10669997  467710     33732         5\n",
       "113   10669998  467710    111208         6\n",
       "115   10669999  467710    111216         7\n",
       "148   10670003  467710    421755        11\n",
       "193   10670005  467710    526820        13\n",
       "316   10670000  467710   1590175         8\n",
       "423   10669995  467710   2043348         3\n",
       "953   10669996  467710   4142913         4\n",
       "975   10669993  467710   4191056         1\n",
       "1552  10670006  467710   7861392        14\n",
       "2104  10670007  467710  30181278        15\n",
       "4470  10670001  467710  33161256         9\n",
       "4471  10670002  467710  33161261        10\n",
       "4573  10670004  467710  33434340        12"
      ]
     },
     "execution_count": 20,
     "metadata": {},
     "output_type": "execute_result"
    }
   ],
   "source": [
    "stations[stations['ST_ID'] == station_ids[0]]"
   ]
  },
  {
   "cell_type": "code",
   "execution_count": null,
   "metadata": {},
   "outputs": [],
   "source": []
  },
  {
   "cell_type": "code",
   "execution_count": null,
   "metadata": {},
   "outputs": [],
   "source": []
  }
 ],
 "metadata": {
  "kernelspec": {
   "display_name": "base",
   "language": "python",
   "name": "python3"
  },
  "language_info": {
   "codemirror_mode": {
    "name": "ipython",
    "version": 3
   },
   "file_extension": ".py",
   "mimetype": "text/x-python",
   "name": "python",
   "nbconvert_exporter": "python",
   "pygments_lexer": "ipython3",
   "version": "3.7.4 (default, Aug  9 2019, 18:34:13) [MSC v.1915 64 bit (AMD64)]"
  },
  "orig_nbformat": 4,
  "vscode": {
   "interpreter": {
    "hash": "e4cce46d6be9934fbd27f9ca0432556941ea5bdf741d4f4d64c6cd7f8dfa8fba"
   }
  }
 },
 "nbformat": 4,
 "nbformat_minor": 2
}
