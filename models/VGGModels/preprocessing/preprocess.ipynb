{
 "cells": [
  {
   "cell_type": "code",
   "execution_count": 3,
   "metadata": {},
   "outputs": [],
   "source": [
    "import pandas as pd\n",
    "import numpy as np\n",
    "import os"
   ]
  },
  {
   "cell_type": "code",
   "execution_count": null,
   "metadata": {},
   "outputs": [],
   "source": []
  },
  {
   "cell_type": "code",
   "execution_count": 24,
   "metadata": {},
   "outputs": [],
   "source": [
    "lyrics = pd.read_csv(os.pardir+'/metadata/Song_Lyrics.csv')\n",
    "songs = pd.read_csv(os.pardir+'/metadata/Song.csv')\n",
    "stations = pd.read_csv(os.pardir+'/metadata/Station_Song.csv')\n",
    "station_tags = pd.read_csv(os.pardir+'/metadata/Station_Tag.csv')\n",
    "tag_info = pd.read_csv(os.pardir+'/metadata/Station_Tag_Info.csv')"
   ]
  },
  {
   "cell_type": "markdown",
   "metadata": {},
   "source": [
    "#### 가사 정보에 대한 결측치 확인"
   ]
  },
  {
   "cell_type": "code",
   "execution_count": 29,
   "metadata": {},
   "outputs": [
    {
     "data": {
      "text/plain": [
       "175.0"
      ]
     },
     "execution_count": 29,
     "metadata": {},
     "output_type": "execute_result"
    }
   ],
   "source": [
    "length = lyrics['LYRICS'].apply(lambda x:len(x))\n",
    "length.quantile(0.05)"
   ]
  },
  {
   "cell_type": "code",
   "execution_count": 30,
   "metadata": {},
   "outputs": [
    {
     "name": "stdout",
     "output_type": "stream",
     "text": [
      "<class 'pandas.core.frame.DataFrame'>\n",
      "Int64Index: 58 entries, 4 to 1199\n",
      "Data columns (total 3 columns):\n",
      " #   Column   Non-Null Count  Dtype \n",
      "---  ------   --------------  ----- \n",
      " 0   IDX      58 non-null     int64 \n",
      " 1   SONG_ID  58 non-null     int64 \n",
      " 2   LYRICS   58 non-null     object\n",
      "dtypes: int64(2), object(1)\n",
      "memory usage: 1.8+ KB\n"
     ]
    }
   ],
   "source": [
    "# 가사의 길이가 100자 이하라면 가사정보가 누락된 것으로 추정한다.\n",
    "lyrics[length < 100].info()"
   ]
  },
  {
   "cell_type": "markdown",
   "metadata": {},
   "source": [
    "#### 각 스테이션의 구성 확인\n",
    "\n",
    "- 57개의 스테이션, 내부에 수록된 곡의 수는 변동\n",
    "- 각 스테이션마다 6개의 세부 감성으로 분류된 태깅 존재"
   ]
  },
  {
   "cell_type": "code",
   "execution_count": 56,
   "metadata": {},
   "outputs": [
    {
     "data": {
      "text/plain": [
       "(57,)"
      ]
     },
     "execution_count": 56,
     "metadata": {},
     "output_type": "execute_result"
    }
   ],
   "source": [
    "stations['ST_ID'].unique().shape"
   ]
  },
  {
   "cell_type": "code",
   "execution_count": 63,
   "metadata": {},
   "outputs": [],
   "source": [
    "tag_dict = {}\n",
    "for i in range(len(tag_info)):\n",
    "    tag_dict[tag_info['IDX'].iloc[i]] = tag_info['TAG_NAME'].iloc[i]"
   ]
  },
  {
   "cell_type": "code",
   "execution_count": 71,
   "metadata": {},
   "outputs": [],
   "source": [
    "station_tag_dict = {}\n",
    "for i in range(len(station_tags)):\n",
    "    station_tag_dict[station_tags['ST_ID'].iloc[i]] = station_tags['ST_TAG_ID'].iloc[i]"
   ]
  },
  {
   "cell_type": "markdown",
   "metadata": {},
   "source": [
    "- 스테이션에 포함된 곡들을 해당 스테이션의 감성으로 태깅\n",
    "- song_id, song_name, song_lyrics, senti_tag 로 구성"
   ]
  },
  {
   "cell_type": "code",
   "execution_count": null,
   "metadata": {},
   "outputs": [],
   "source": []
  },
  {
   "cell_type": "code",
   "execution_count": 80,
   "metadata": {},
   "outputs": [],
   "source": [
    "station_ids = stations['ST_ID'].unique()\n",
    "\n",
    "song_id = []\n",
    "song_name = []\n",
    "song_lyric = []\n",
    "senti_tag = []\n",
    "\n",
    "for case in station_ids:\n",
    "    temp = stations[stations['ST_ID'] == case]\n",
    "    for i in range(len(temp)):\n",
    "        senti_tag.append(station_tag_dict[temp['ST_ID'].iloc[i]])\n",
    "        song_id.append(temp['SONG_ID'].iloc[i])\n",
    "        break\n",
    "    break"
   ]
  },
  {
   "cell_type": "code",
   "execution_count": 72,
   "metadata": {},
   "outputs": [
    {
     "data": {
      "text/html": [
       "<div>\n",
       "<style scoped>\n",
       "    .dataframe tbody tr th:only-of-type {\n",
       "        vertical-align: middle;\n",
       "    }\n",
       "\n",
       "    .dataframe tbody tr th {\n",
       "        vertical-align: top;\n",
       "    }\n",
       "\n",
       "    .dataframe thead th {\n",
       "        text-align: right;\n",
       "    }\n",
       "</style>\n",
       "<table border=\"1\" class=\"dataframe\">\n",
       "  <thead>\n",
       "    <tr style=\"text-align: right;\">\n",
       "      <th></th>\n",
       "      <th>IDX</th>\n",
       "      <th>ST_ID</th>\n",
       "      <th>SONG_ID</th>\n",
       "      <th>PRIORITY</th>\n",
       "    </tr>\n",
       "  </thead>\n",
       "  <tbody>\n",
       "    <tr>\n",
       "      <th>0</th>\n",
       "      <td>1943611</td>\n",
       "      <td>154837</td>\n",
       "      <td>32399836</td>\n",
       "      <td>1</td>\n",
       "    </tr>\n",
       "    <tr>\n",
       "      <th>1</th>\n",
       "      <td>1943612</td>\n",
       "      <td>154837</td>\n",
       "      <td>31052006</td>\n",
       "      <td>2</td>\n",
       "    </tr>\n",
       "    <tr>\n",
       "      <th>2</th>\n",
       "      <td>1943613</td>\n",
       "      <td>154837</td>\n",
       "      <td>4196651</td>\n",
       "      <td>3</td>\n",
       "    </tr>\n",
       "    <tr>\n",
       "      <th>3</th>\n",
       "      <td>1943614</td>\n",
       "      <td>154837</td>\n",
       "      <td>31448485</td>\n",
       "      <td>4</td>\n",
       "    </tr>\n",
       "    <tr>\n",
       "      <th>4</th>\n",
       "      <td>1943615</td>\n",
       "      <td>154837</td>\n",
       "      <td>30773556</td>\n",
       "      <td>5</td>\n",
       "    </tr>\n",
       "    <tr>\n",
       "      <th>5</th>\n",
       "      <td>1943616</td>\n",
       "      <td>154837</td>\n",
       "      <td>3857212</td>\n",
       "      <td>6</td>\n",
       "    </tr>\n",
       "    <tr>\n",
       "      <th>6</th>\n",
       "      <td>1943617</td>\n",
       "      <td>154837</td>\n",
       "      <td>4009751</td>\n",
       "      <td>7</td>\n",
       "    </tr>\n",
       "    <tr>\n",
       "      <th>7</th>\n",
       "      <td>1943618</td>\n",
       "      <td>154837</td>\n",
       "      <td>30773554</td>\n",
       "      <td>8</td>\n",
       "    </tr>\n",
       "    <tr>\n",
       "      <th>8</th>\n",
       "      <td>1943619</td>\n",
       "      <td>154837</td>\n",
       "      <td>31764887</td>\n",
       "      <td>9</td>\n",
       "    </tr>\n",
       "    <tr>\n",
       "      <th>9</th>\n",
       "      <td>1943620</td>\n",
       "      <td>154837</td>\n",
       "      <td>3947371</td>\n",
       "      <td>10</td>\n",
       "    </tr>\n",
       "    <tr>\n",
       "      <th>10</th>\n",
       "      <td>1943621</td>\n",
       "      <td>154837</td>\n",
       "      <td>5562520</td>\n",
       "      <td>11</td>\n",
       "    </tr>\n",
       "    <tr>\n",
       "      <th>11</th>\n",
       "      <td>1943622</td>\n",
       "      <td>154837</td>\n",
       "      <td>5562521</td>\n",
       "      <td>12</td>\n",
       "    </tr>\n",
       "    <tr>\n",
       "      <th>12</th>\n",
       "      <td>1943623</td>\n",
       "      <td>154837</td>\n",
       "      <td>31448480</td>\n",
       "      <td>13</td>\n",
       "    </tr>\n",
       "    <tr>\n",
       "      <th>13</th>\n",
       "      <td>1943624</td>\n",
       "      <td>154837</td>\n",
       "      <td>8248801</td>\n",
       "      <td>14</td>\n",
       "    </tr>\n",
       "    <tr>\n",
       "      <th>14</th>\n",
       "      <td>1943625</td>\n",
       "      <td>154837</td>\n",
       "      <td>4009753</td>\n",
       "      <td>15</td>\n",
       "    </tr>\n",
       "    <tr>\n",
       "      <th>15</th>\n",
       "      <td>1943626</td>\n",
       "      <td>154837</td>\n",
       "      <td>31266289</td>\n",
       "      <td>16</td>\n",
       "    </tr>\n",
       "    <tr>\n",
       "      <th>16</th>\n",
       "      <td>1943627</td>\n",
       "      <td>154837</td>\n",
       "      <td>3685690</td>\n",
       "      <td>17</td>\n",
       "    </tr>\n",
       "    <tr>\n",
       "      <th>17</th>\n",
       "      <td>1943628</td>\n",
       "      <td>154837</td>\n",
       "      <td>4041405</td>\n",
       "      <td>18</td>\n",
       "    </tr>\n",
       "    <tr>\n",
       "      <th>18</th>\n",
       "      <td>1943629</td>\n",
       "      <td>154837</td>\n",
       "      <td>3726617</td>\n",
       "      <td>19</td>\n",
       "    </tr>\n",
       "    <tr>\n",
       "      <th>19</th>\n",
       "      <td>1943630</td>\n",
       "      <td>154837</td>\n",
       "      <td>30351588</td>\n",
       "      <td>20</td>\n",
       "    </tr>\n",
       "    <tr>\n",
       "      <th>20</th>\n",
       "      <td>1943631</td>\n",
       "      <td>154837</td>\n",
       "      <td>8248802</td>\n",
       "      <td>21</td>\n",
       "    </tr>\n",
       "    <tr>\n",
       "      <th>21</th>\n",
       "      <td>1943632</td>\n",
       "      <td>154837</td>\n",
       "      <td>32399824</td>\n",
       "      <td>22</td>\n",
       "    </tr>\n",
       "    <tr>\n",
       "      <th>22</th>\n",
       "      <td>1943633</td>\n",
       "      <td>154837</td>\n",
       "      <td>5835766</td>\n",
       "      <td>23</td>\n",
       "    </tr>\n",
       "    <tr>\n",
       "      <th>23</th>\n",
       "      <td>1943634</td>\n",
       "      <td>154837</td>\n",
       "      <td>3818841</td>\n",
       "      <td>24</td>\n",
       "    </tr>\n",
       "    <tr>\n",
       "      <th>24</th>\n",
       "      <td>1943635</td>\n",
       "      <td>154837</td>\n",
       "      <td>4012610</td>\n",
       "      <td>25</td>\n",
       "    </tr>\n",
       "    <tr>\n",
       "      <th>25</th>\n",
       "      <td>1943636</td>\n",
       "      <td>154837</td>\n",
       "      <td>4041408</td>\n",
       "      <td>26</td>\n",
       "    </tr>\n",
       "    <tr>\n",
       "      <th>26</th>\n",
       "      <td>1943637</td>\n",
       "      <td>154837</td>\n",
       "      <td>4643464</td>\n",
       "      <td>27</td>\n",
       "    </tr>\n",
       "    <tr>\n",
       "      <th>27</th>\n",
       "      <td>1943638</td>\n",
       "      <td>154837</td>\n",
       "      <td>31448486</td>\n",
       "      <td>28</td>\n",
       "    </tr>\n",
       "  </tbody>\n",
       "</table>\n",
       "</div>"
      ],
      "text/plain": [
       "        IDX   ST_ID   SONG_ID  PRIORITY\n",
       "0   1943611  154837  32399836         1\n",
       "1   1943612  154837  31052006         2\n",
       "2   1943613  154837   4196651         3\n",
       "3   1943614  154837  31448485         4\n",
       "4   1943615  154837  30773556         5\n",
       "5   1943616  154837   3857212         6\n",
       "6   1943617  154837   4009751         7\n",
       "7   1943618  154837  30773554         8\n",
       "8   1943619  154837  31764887         9\n",
       "9   1943620  154837   3947371        10\n",
       "10  1943621  154837   5562520        11\n",
       "11  1943622  154837   5562521        12\n",
       "12  1943623  154837  31448480        13\n",
       "13  1943624  154837   8248801        14\n",
       "14  1943625  154837   4009753        15\n",
       "15  1943626  154837  31266289        16\n",
       "16  1943627  154837   3685690        17\n",
       "17  1943628  154837   4041405        18\n",
       "18  1943629  154837   3726617        19\n",
       "19  1943630  154837  30351588        20\n",
       "20  1943631  154837   8248802        21\n",
       "21  1943632  154837  32399824        22\n",
       "22  1943633  154837   5835766        23\n",
       "23  1943634  154837   3818841        24\n",
       "24  1943635  154837   4012610        25\n",
       "25  1943636  154837   4041408        26\n",
       "26  1943637  154837   4643464        27\n",
       "27  1943638  154837  31448486        28"
      ]
     },
     "execution_count": 72,
     "metadata": {},
     "output_type": "execute_result"
    }
   ],
   "source": [
    "\n",
    "stations[stations['ST_ID'] == station_ids[0]]"
   ]
  },
  {
   "cell_type": "code",
   "execution_count": null,
   "metadata": {},
   "outputs": [],
   "source": []
  }
 ],
 "metadata": {
  "kernelspec": {
   "display_name": "base",
   "language": "python",
   "name": "python3"
  },
  "language_info": {
   "codemirror_mode": {
    "name": "ipython",
    "version": 3
   },
   "file_extension": ".py",
   "mimetype": "text/x-python",
   "name": "python",
   "nbconvert_exporter": "python",
   "pygments_lexer": "ipython3",
   "version": "3.7.4"
  },
  "orig_nbformat": 4,
  "vscode": {
   "interpreter": {
    "hash": "e4cce46d6be9934fbd27f9ca0432556941ea5bdf741d4f4d64c6cd7f8dfa8fba"
   }
  }
 },
 "nbformat": 4,
 "nbformat_minor": 2
}
